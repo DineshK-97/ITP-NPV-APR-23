{
 "cells": [
  {
   "cell_type": "markdown",
   "id": "5bca0968",
   "metadata": {},
   "source": [
    "# Lambda Function"
   ]
  },
  {
   "cell_type": "code",
   "execution_count": null,
   "id": "edb10c9b",
   "metadata": {},
   "outputs": [],
   "source": [
    "# Properties\n",
    "# 1. Create Functions in one liner\n",
    "# 2. We will use lambda keyword\n",
    "# 3. Lambda Function doesn't have any name\n",
    "# 4. So it is called as Anonymous Function\n",
    "# 5. It is used for one time purpose\n",
    "# 6. It is used with builtin functions often"
   ]
  },
  {
   "cell_type": "code",
   "execution_count": 1,
   "id": "88092be1",
   "metadata": {},
   "outputs": [],
   "source": [
    "s = lambda x,y : x if x < y else y"
   ]
  },
  {
   "cell_type": "code",
   "execution_count": 2,
   "id": "6be542cf",
   "metadata": {},
   "outputs": [
    {
     "data": {
      "text/plain": [
       "5"
      ]
     },
     "execution_count": 2,
     "metadata": {},
     "output_type": "execute_result"
    }
   ],
   "source": [
    "s(10,5)"
   ]
  },
  {
   "cell_type": "code",
   "execution_count": 10,
   "id": "05a16ee6",
   "metadata": {},
   "outputs": [],
   "source": [
    "s1 = lambda x,y : x if x>y else y"
   ]
  },
  {
   "cell_type": "code",
   "execution_count": 11,
   "id": "0a7619d1",
   "metadata": {},
   "outputs": [
    {
     "data": {
      "text/plain": [
       "41"
      ]
     },
     "execution_count": 11,
     "metadata": {},
     "output_type": "execute_result"
    }
   ],
   "source": [
    "s1(10,41)"
   ]
  },
  {
   "cell_type": "code",
   "execution_count": 3,
   "id": "9a049b1f",
   "metadata": {},
   "outputs": [],
   "source": [
    "t = lambda x : \"Even\" if x%2==0 else \"Odd\""
   ]
  },
  {
   "cell_type": "code",
   "execution_count": 6,
   "id": "21a5f534",
   "metadata": {},
   "outputs": [
    {
     "data": {
      "text/plain": [
       "'Even'"
      ]
     },
     "execution_count": 6,
     "metadata": {},
     "output_type": "execute_result"
    }
   ],
   "source": [
    "t(2)"
   ]
  },
  {
   "cell_type": "code",
   "execution_count": null,
   "id": "491caa29",
   "metadata": {},
   "outputs": [],
   "source": [
    "t = lambda x : \"Even\" if x%2==0 else \"Odd\""
   ]
  },
  {
   "cell_type": "code",
   "execution_count": 7,
   "id": "30ee3a27",
   "metadata": {},
   "outputs": [
    {
     "data": {
      "text/plain": [
       "'Odd'"
      ]
     },
     "execution_count": 7,
     "metadata": {},
     "output_type": "execute_result"
    }
   ],
   "source": [
    "t(7)"
   ]
  },
  {
   "cell_type": "code",
   "execution_count": null,
   "id": "3296a17e",
   "metadata": {},
   "outputs": [],
   "source": [
    "# Map - For changing the values in the output\n",
    "# It has 2 Arguments (Function, *Iterable) # (*) It can take N - number of iterables"
   ]
  },
  {
   "cell_type": "code",
   "execution_count": 1,
   "id": "bc196d1d",
   "metadata": {},
   "outputs": [],
   "source": [
    "prog_lan = [\"Python\",\"Java\",\"C\",\"C++\"]"
   ]
  },
  {
   "cell_type": "code",
   "execution_count": 2,
   "id": "78af569a",
   "metadata": {},
   "outputs": [],
   "source": [
    "def Findlen(x):\n",
    "    return len(x)"
   ]
  },
  {
   "cell_type": "code",
   "execution_count": 3,
   "id": "e4e5de28",
   "metadata": {},
   "outputs": [
    {
     "data": {
      "text/plain": [
       "[6, 4, 1, 3]"
      ]
     },
     "execution_count": 3,
     "metadata": {},
     "output_type": "execute_result"
    }
   ],
   "source": [
    "list(map(Findlen, prog_lan))"
   ]
  },
  {
   "cell_type": "code",
   "execution_count": 6,
   "id": "527fcaca",
   "metadata": {},
   "outputs": [
    {
     "data": {
      "text/plain": [
       "['teen', 'teen', 'teen', 'teen', 'adult', 'adult', 'adult', 'adult']"
      ]
     },
     "execution_count": 6,
     "metadata": {},
     "output_type": "execute_result"
    }
   ],
   "source": [
    "# Find teen or adult from age\n",
    "age = [7,14,15,16,20,21,22,34]\n",
    "\n",
    "list(map(lambda x : \"teen\" if x < 20 else \"adult\", age))"
   ]
  },
  {
   "cell_type": "code",
   "execution_count": 9,
   "id": "271c3112",
   "metadata": {},
   "outputs": [],
   "source": [
    "def Findage(x):\n",
    "    if x>20 and x>=12:\n",
    "        return \"adult\"\n",
    "    elif x<12:\n",
    "        return \"child\"\n",
    "    else:\n",
    "        return \"teen\""
   ]
  },
  {
   "cell_type": "code",
   "execution_count": 10,
   "id": "a1a3f660",
   "metadata": {},
   "outputs": [
    {
     "data": {
      "text/plain": [
       "['child', 'teen', 'teen', 'teen', 'teen', 'adult', 'adult', 'adult']"
      ]
     },
     "execution_count": 10,
     "metadata": {},
     "output_type": "execute_result"
    }
   ],
   "source": [
    "list(map(Findage, age))"
   ]
  },
  {
   "cell_type": "code",
   "execution_count": 34,
   "id": "f8fb6f33",
   "metadata": {},
   "outputs": [
    {
     "data": {
      "text/plain": [
       "[41.67, 51.67, 44.67, 57.0, 50.0]"
      ]
     },
     "execution_count": 34,
     "metadata": {},
     "output_type": "execute_result"
    }
   ],
   "source": [
    "itp = (30,43,45,65,46)\n",
    "npv = [42,36,57,42,48]\n",
    "sql = [53,76,32,64,56]\n",
    "\n",
    "list(map(lambda x,y,z : round((x+y+z)/3,2), itp,npv,sql ))"
   ]
  },
  {
   "cell_type": "code",
   "execution_count": null,
   "id": "e3b19b57",
   "metadata": {},
   "outputs": [],
   "source": [
    "# Filter function\n",
    "# 1. It filters the values from the iterables\n",
    "# 2. There no usage of if condition because we need to filter values"
   ]
  },
  {
   "cell_type": "code",
   "execution_count": 39,
   "id": "618c1eb0",
   "metadata": {},
   "outputs": [
    {
     "data": {
      "text/plain": [
       "[34, 49, 57, 35, 87]"
      ]
     },
     "execution_count": 39,
     "metadata": {},
     "output_type": "execute_result"
    }
   ],
   "source": [
    "marks = [23,34,27,49,57,35,87]\n",
    "\n",
    "list(filter(lambda x : x>30, marks))"
   ]
  },
  {
   "cell_type": "code",
   "execution_count": 55,
   "id": "d7a23881",
   "metadata": {},
   "outputs": [
    {
     "data": {
      "text/plain": [
       "[49, 57, 87]"
      ]
     },
     "execution_count": 55,
     "metadata": {},
     "output_type": "execute_result"
    }
   ],
   "source": [
    "marks = [23,34,27,49,57,35,87]\n",
    "\n",
    "\n",
    "list(filter(lambda x : x>45, marks))"
   ]
  },
  {
   "cell_type": "code",
   "execution_count": null,
   "id": "a8747d2f",
   "metadata": {},
   "outputs": [],
   "source": [
    "# Date-July 2nd Continued"
   ]
  },
  {
   "cell_type": "markdown",
   "id": "3b440524",
   "metadata": {},
   "source": [
    "### List Contains vowels or not"
   ]
  },
  {
   "cell_type": "code",
   "execution_count": 11,
   "id": "9bc1b7c3",
   "metadata": {},
   "outputs": [],
   "source": [
    "lt = [\"java\",\"sql\",\"random\",\"python\",\"c++\"]\n"
   ]
  },
  {
   "cell_type": "code",
   "execution_count": 22,
   "id": "5ba60f26",
   "metadata": {},
   "outputs": [],
   "source": [
    "def ContainsVowels (x):\n",
    "    for i in x:\n",
    "        if i in \"aeiouAEIOU\":\n",
    "            return True\n",
    "    else:\n",
    "        return False"
   ]
  },
  {
   "cell_type": "code",
   "execution_count": 23,
   "id": "85c36e28",
   "metadata": {},
   "outputs": [
    {
     "data": {
      "text/plain": [
       "True"
      ]
     },
     "execution_count": 23,
     "metadata": {},
     "output_type": "execute_result"
    }
   ],
   "source": [
    "ContainsVowels('python')"
   ]
  },
  {
   "cell_type": "code",
   "execution_count": 24,
   "id": "ec2f7b22",
   "metadata": {},
   "outputs": [
    {
     "data": {
      "text/plain": [
       "['java', 'random', 'python']"
      ]
     },
     "execution_count": 24,
     "metadata": {},
     "output_type": "execute_result"
    }
   ],
   "source": [
    "list(filter(ContainsVowels, lt))"
   ]
  },
  {
   "cell_type": "code",
   "execution_count": null,
   "id": "81b91a3c",
   "metadata": {},
   "outputs": [],
   "source": []
  },
  {
   "cell_type": "code",
   "execution_count": 2,
   "id": "77ecefc2",
   "metadata": {},
   "outputs": [
    {
     "data": {
      "text/plain": [
       "[44.0, 35.0, 40.5, 70.0, 40.0]"
      ]
     },
     "execution_count": 2,
     "metadata": {},
     "output_type": "execute_result"
    }
   ],
   "source": [
    "math = [23,24,43,54,24]\n",
    "sci = [65,46,38,86,56]\n",
    "\n",
    "# map function\n",
    "list(map(lambda x,y : (x+y)/2, math,sci))"
   ]
  },
  {
   "cell_type": "code",
   "execution_count": 3,
   "id": "1a2a7b79",
   "metadata": {},
   "outputs": [
    {
     "data": {
      "text/plain": [
       "[23, 24, 24]"
      ]
     },
     "execution_count": 3,
     "metadata": {},
     "output_type": "execute_result"
    }
   ],
   "source": [
    "math = [23,24,43,54,24]\n",
    "\n",
    "# filter function\n",
    "list(filter(lambda x : x<25, math))"
   ]
  },
  {
   "cell_type": "code",
   "execution_count": null,
   "id": "304d2e5d",
   "metadata": {},
   "outputs": [],
   "source": []
  },
  {
   "cell_type": "code",
   "execution_count": null,
   "id": "58362a15",
   "metadata": {},
   "outputs": [],
   "source": []
  },
  {
   "cell_type": "code",
   "execution_count": null,
   "id": "fbc4df0c",
   "metadata": {},
   "outputs": [],
   "source": []
  },
  {
   "cell_type": "code",
   "execution_count": null,
   "id": "69da1c4d",
   "metadata": {},
   "outputs": [],
   "source": []
  },
  {
   "cell_type": "code",
   "execution_count": null,
   "id": "89f6583f",
   "metadata": {},
   "outputs": [],
   "source": []
  },
  {
   "cell_type": "code",
   "execution_count": null,
   "id": "1a95ccb5",
   "metadata": {},
   "outputs": [],
   "source": []
  },
  {
   "cell_type": "code",
   "execution_count": null,
   "id": "1d311bae",
   "metadata": {},
   "outputs": [],
   "source": []
  },
  {
   "cell_type": "code",
   "execution_count": null,
   "id": "d08844e4",
   "metadata": {},
   "outputs": [],
   "source": []
  },
  {
   "cell_type": "code",
   "execution_count": null,
   "id": "dca33e4f",
   "metadata": {},
   "outputs": [],
   "source": []
  },
  {
   "cell_type": "code",
   "execution_count": null,
   "id": "97aa0eda",
   "metadata": {},
   "outputs": [],
   "source": []
  },
  {
   "cell_type": "code",
   "execution_count": null,
   "id": "fe9f563e",
   "metadata": {},
   "outputs": [],
   "source": []
  },
  {
   "cell_type": "code",
   "execution_count": null,
   "id": "98682f34",
   "metadata": {},
   "outputs": [],
   "source": []
  },
  {
   "cell_type": "code",
   "execution_count": null,
   "id": "e76a663e",
   "metadata": {},
   "outputs": [],
   "source": []
  },
  {
   "cell_type": "code",
   "execution_count": null,
   "id": "cd7abe45",
   "metadata": {},
   "outputs": [],
   "source": []
  },
  {
   "cell_type": "code",
   "execution_count": null,
   "id": "4e28af02",
   "metadata": {},
   "outputs": [],
   "source": []
  },
  {
   "cell_type": "code",
   "execution_count": null,
   "id": "fcf82f54",
   "metadata": {},
   "outputs": [],
   "source": []
  },
  {
   "cell_type": "code",
   "execution_count": null,
   "id": "80b7952c",
   "metadata": {},
   "outputs": [],
   "source": []
  },
  {
   "cell_type": "code",
   "execution_count": null,
   "id": "e670a53f",
   "metadata": {},
   "outputs": [],
   "source": []
  },
  {
   "cell_type": "code",
   "execution_count": null,
   "id": "f2ff2d9b",
   "metadata": {},
   "outputs": [],
   "source": []
  },
  {
   "cell_type": "code",
   "execution_count": null,
   "id": "0b6816d4",
   "metadata": {},
   "outputs": [],
   "source": []
  },
  {
   "cell_type": "code",
   "execution_count": null,
   "id": "03fb0fb9",
   "metadata": {},
   "outputs": [],
   "source": []
  },
  {
   "cell_type": "code",
   "execution_count": null,
   "id": "ee0485dd",
   "metadata": {},
   "outputs": [],
   "source": []
  },
  {
   "cell_type": "code",
   "execution_count": null,
   "id": "586cd395",
   "metadata": {},
   "outputs": [],
   "source": []
  },
  {
   "cell_type": "code",
   "execution_count": null,
   "id": "310cfebe",
   "metadata": {},
   "outputs": [],
   "source": []
  },
  {
   "cell_type": "code",
   "execution_count": null,
   "id": "85ddf33c",
   "metadata": {},
   "outputs": [],
   "source": []
  },
  {
   "cell_type": "code",
   "execution_count": null,
   "id": "08b25b4b",
   "metadata": {},
   "outputs": [],
   "source": []
  },
  {
   "cell_type": "code",
   "execution_count": null,
   "id": "d7eecdb3",
   "metadata": {},
   "outputs": [],
   "source": []
  },
  {
   "cell_type": "code",
   "execution_count": null,
   "id": "b9df1596",
   "metadata": {},
   "outputs": [],
   "source": []
  },
  {
   "cell_type": "code",
   "execution_count": null,
   "id": "82591bba",
   "metadata": {},
   "outputs": [],
   "source": []
  },
  {
   "cell_type": "code",
   "execution_count": null,
   "id": "df8fdd72",
   "metadata": {},
   "outputs": [],
   "source": []
  },
  {
   "cell_type": "code",
   "execution_count": null,
   "id": "f0b3123f",
   "metadata": {},
   "outputs": [],
   "source": []
  },
  {
   "cell_type": "code",
   "execution_count": null,
   "id": "7fe9ba79",
   "metadata": {},
   "outputs": [],
   "source": []
  },
  {
   "cell_type": "code",
   "execution_count": null,
   "id": "6975f9e8",
   "metadata": {},
   "outputs": [],
   "source": []
  }
 ],
 "metadata": {
  "kernelspec": {
   "display_name": "Python 3 (ipykernel)",
   "language": "python",
   "name": "python3"
  },
  "language_info": {
   "codemirror_mode": {
    "name": "ipython",
    "version": 3
   },
   "file_extension": ".py",
   "mimetype": "text/x-python",
   "name": "python",
   "nbconvert_exporter": "python",
   "pygments_lexer": "ipython3",
   "version": "3.10.9"
  }
 },
 "nbformat": 4,
 "nbformat_minor": 5
}
