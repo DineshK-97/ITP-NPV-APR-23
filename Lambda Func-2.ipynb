{
 "cells": [
  {
   "cell_type": "markdown",
   "id": "477f4c59",
   "metadata": {},
   "source": [
    "# Lambda Function Reduce"
   ]
  },
  {
   "cell_type": "code",
   "execution_count": null,
   "id": "6d25417c",
   "metadata": {},
   "outputs": [],
   "source": [
    "# Reduce will always gives us single values"
   ]
  },
  {
   "cell_type": "code",
   "execution_count": 2,
   "id": "000cdfab",
   "metadata": {},
   "outputs": [],
   "source": [
    "from functools import reduce"
   ]
  },
  {
   "cell_type": "code",
   "execution_count": 5,
   "id": "e10ad641",
   "metadata": {},
   "outputs": [
    {
     "data": {
      "text/plain": [
       "251"
      ]
     },
     "execution_count": 5,
     "metadata": {},
     "output_type": "execute_result"
    }
   ],
   "source": [
    "l1 = [32,55,65,34,65]\n",
    "\n",
    "reduce(lambda x,y : x+y, l1)"
   ]
  },
  {
   "cell_type": "code",
   "execution_count": 4,
   "id": "aa48fd30",
   "metadata": {},
   "outputs": [
    {
     "data": {
      "text/plain": [
       "251"
      ]
     },
     "execution_count": 4,
     "metadata": {},
     "output_type": "execute_result"
    }
   ],
   "source": [
    "32+55+65+34+65"
   ]
  },
  {
   "cell_type": "markdown",
   "id": "343d48f2",
   "metadata": {},
   "source": [
    "# Lambda Function Accumulate"
   ]
  },
  {
   "cell_type": "code",
   "execution_count": 5,
   "id": "e90112c3",
   "metadata": {},
   "outputs": [],
   "source": [
    "from itertools import accumulate"
   ]
  },
  {
   "cell_type": "code",
   "execution_count": 6,
   "id": "86edd67e",
   "metadata": {},
   "outputs": [
    {
     "data": {
      "text/plain": [
       "[32, 87, 152, 186, 251]"
      ]
     },
     "execution_count": 6,
     "metadata": {},
     "output_type": "execute_result"
    }
   ],
   "source": [
    "l1 = [32,55,65,34,65]\n",
    "\n",
    "list(accumulate(l1, lambda x,y : x+y))"
   ]
  },
  {
   "cell_type": "code",
   "execution_count": null,
   "id": "d1914319",
   "metadata": {},
   "outputs": [],
   "source": []
  },
  {
   "cell_type": "markdown",
   "id": "3013723a",
   "metadata": {},
   "source": [
    "### Inclass Lambda Function"
   ]
  },
  {
   "cell_type": "markdown",
   "id": "b4962829",
   "metadata": {},
   "source": [
    "### Find the minimum of the two numbers(34 and 78) using the lambda function"
   ]
  },
  {
   "cell_type": "code",
   "execution_count": 7,
   "id": "68ba37c0",
   "metadata": {},
   "outputs": [],
   "source": [
    "x = 34\n",
    "y = 78\n",
    "\n",
    "s = lambda x,y : x if x<y else y "
   ]
  },
  {
   "cell_type": "code",
   "execution_count": 8,
   "id": "7b8e0f2e",
   "metadata": {},
   "outputs": [
    {
     "data": {
      "text/plain": [
       "34"
      ]
     },
     "execution_count": 8,
     "metadata": {},
     "output_type": "execute_result"
    }
   ],
   "source": [
    "s(34,78)"
   ]
  },
  {
   "cell_type": "markdown",
   "id": "6ef0db69",
   "metadata": {},
   "source": [
    "### Find the maximum of the two numbers(34 and 78) using the lambda function"
   ]
  },
  {
   "cell_type": "code",
   "execution_count": 10,
   "id": "406c41f7",
   "metadata": {},
   "outputs": [],
   "source": [
    "s = lambda x,y : x if x>y else y "
   ]
  },
  {
   "cell_type": "code",
   "execution_count": 11,
   "id": "63ab7ea4",
   "metadata": {},
   "outputs": [
    {
     "data": {
      "text/plain": [
       "78"
      ]
     },
     "execution_count": 11,
     "metadata": {},
     "output_type": "execute_result"
    }
   ],
   "source": [
    "s(78,34)"
   ]
  },
  {
   "cell_type": "markdown",
   "id": "f3512cfb",
   "metadata": {},
   "source": [
    "### Calculate the square of each element from the given tuple using the map function"
   ]
  },
  {
   "cell_type": "markdown",
   "id": "f576aeff",
   "metadata": {},
   "source": [
    "Use the tuple given below:\n",
    "number = (11, 21, 30, 34)"
   ]
  },
  {
   "cell_type": "code",
   "execution_count": 12,
   "id": "53a9a685",
   "metadata": {},
   "outputs": [
    {
     "data": {
      "text/plain": [
       "[121, 441, 900, 1156]"
      ]
     },
     "execution_count": 12,
     "metadata": {},
     "output_type": "execute_result"
    }
   ],
   "source": [
    "number = (11, 21, 30, 34)\n",
    "\n",
    "list(map(lambda x : x**2, number))"
   ]
  },
  {
   "cell_type": "markdown",
   "id": "5a8f5f46",
   "metadata": {},
   "source": [
    "### Read the given sentence and print the length of each word in a sentence in a list using the map function"
   ]
  },
  {
   "cell_type": "markdown",
   "id": "d5e6aa67",
   "metadata": {},
   "source": [
    "** Use the sentence given below:**\n",
    "sentence = 'Python for Data Science'"
   ]
  },
  {
   "cell_type": "code",
   "execution_count": 29,
   "id": "bad49e71",
   "metadata": {},
   "outputs": [
    {
     "data": {
      "text/plain": [
       "['Python', 'for', 'Data', 'Science']"
      ]
     },
     "execution_count": 29,
     "metadata": {},
     "output_type": "execute_result"
    }
   ],
   "source": [
    "# First we need to split the sentences (After the separation the methods are same)\n",
    "sentence = 'Python for Data Science'\n",
    "\n",
    "s1 = sentence.split()\n",
    "s1"
   ]
  },
  {
   "cell_type": "code",
   "execution_count": 31,
   "id": "f8c91b29",
   "metadata": {},
   "outputs": [
    {
     "data": {
      "text/plain": [
       "[6, 3, 4, 7]"
      ]
     },
     "execution_count": 31,
     "metadata": {},
     "output_type": "execute_result"
    }
   ],
   "source": [
    "list(map(lambda x : len(x), s1))"
   ]
  },
  {
   "cell_type": "markdown",
   "id": "60793dfa",
   "metadata": {},
   "source": [
    "###  Find the remainder of all the numbers present in a list after dividing by 5"
   ]
  },
  {
   "cell_type": "markdown",
   "id": "b2c1f0e6",
   "metadata": {},
   "source": [
    "Use the list given below:\n",
    "numbers = [ 74, 85, 14, 23 ]"
   ]
  },
  {
   "cell_type": "code",
   "execution_count": 32,
   "id": "db3a9980",
   "metadata": {},
   "outputs": [
    {
     "data": {
      "text/plain": [
       "[4, 0, 4, 3]"
      ]
     },
     "execution_count": 32,
     "metadata": {},
     "output_type": "execute_result"
    }
   ],
   "source": [
    "# Basics from arithmetic\n",
    "numbers = [ 74, 85, 14, 23 ]\n",
    "\n",
    "list(map(lambda x : (x%5), numbers))"
   ]
  },
  {
   "cell_type": "code",
   "execution_count": 33,
   "id": "d179cd3d",
   "metadata": {},
   "outputs": [
    {
     "data": {
      "text/plain": [
       "4"
      ]
     },
     "execution_count": 33,
     "metadata": {},
     "output_type": "execute_result"
    }
   ],
   "source": [
    "74%5"
   ]
  },
  {
   "cell_type": "markdown",
   "id": "80aee6cd",
   "metadata": {},
   "source": [
    "# July 3rd 23 Continued"
   ]
  },
  {
   "cell_type": "markdown",
   "id": "50d5bebe",
   "metadata": {},
   "source": [
    "### Concatenate elements from the list1 with the corresponding element of list2"
   ]
  },
  {
   "cell_type": "markdown",
   "id": "bd94362a",
   "metadata": {},
   "source": [
    "** Use the list given below:**\n",
    "list1 = ['I', 'felt', 'happy', 'because', 'I', 'saw', 'the', 'others', 'were', 'happy']\n",
    "list2 = [11,22,33,44,55,66,77,88,99]"
   ]
  },
  {
   "cell_type": "code",
   "execution_count": 9,
   "id": "65356921",
   "metadata": {},
   "outputs": [
    {
     "data": {
      "text/plain": [
       "['I11',\n",
       " 'felt22',\n",
       " 'happy33',\n",
       " 'because44',\n",
       " 'I55',\n",
       " 'saw66',\n",
       " 'the77',\n",
       " 'others88',\n",
       " 'were99']"
      ]
     },
     "execution_count": 9,
     "metadata": {},
     "output_type": "execute_result"
    }
   ],
   "source": [
    "list1 = ['I', 'felt', 'happy', 'because', 'I', 'saw', 'the', 'others', 'were', 'happy']\n",
    "list2 = [11,22,33,44,55,66,77,88,99]\n",
    "\n",
    "list(map(lambda x, y : x+str(y), list1, list2))"
   ]
  },
  {
   "cell_type": "markdown",
   "id": "339bd1b6",
   "metadata": {},
   "source": [
    "# Filter Function"
   ]
  },
  {
   "cell_type": "markdown",
   "id": "300a78d9",
   "metadata": {},
   "source": [
    "### Find the common elements from the given array using filter method"
   ]
  },
  {
   "cell_type": "raw",
   "id": "480e8925",
   "metadata": {},
   "source": [
    "Use the array given below:\n",
    "arr1 = ['t','u','t','o','r','i','a','l']\n",
    "arr2 = ['p','o','i','n','t']"
   ]
  },
  {
   "cell_type": "code",
   "execution_count": 11,
   "id": "c7ea29c0",
   "metadata": {},
   "outputs": [
    {
     "data": {
      "text/plain": [
       "['t', 'u', 't', 'o', 'r', 'i', 'a', 'l', 'p', 'o', 'i', 'n', 't']"
      ]
     },
     "execution_count": 11,
     "metadata": {},
     "output_type": "execute_result"
    }
   ],
   "source": [
    "arr1 = ['t','u','t','o','r','i','a','l']\n",
    "arr2 = ['p','o','i','n','t']\n",
    "\n",
    "arr = arr1+arr2\n",
    "arr"
   ]
  },
  {
   "cell_type": "code",
   "execution_count": 13,
   "id": "06b78e06",
   "metadata": {},
   "outputs": [],
   "source": [
    "def ContainsCommon(x):\n",
    "    for i in x:\n",
    "        if i in 't o i':\n",
    "            return True\n",
    "        else:\n",
    "            return False"
   ]
  },
  {
   "cell_type": "code",
   "execution_count": 15,
   "id": "792a205f",
   "metadata": {},
   "outputs": [
    {
     "data": {
      "text/plain": [
       "False"
      ]
     },
     "execution_count": 15,
     "metadata": {},
     "output_type": "execute_result"
    }
   ],
   "source": [
    "ContainsCommon('u')"
   ]
  },
  {
   "cell_type": "code",
   "execution_count": 16,
   "id": "ca847dfc",
   "metadata": {},
   "outputs": [
    {
     "data": {
      "text/plain": [
       "True"
      ]
     },
     "execution_count": 16,
     "metadata": {},
     "output_type": "execute_result"
    }
   ],
   "source": [
    "ContainsCommon('i')"
   ]
  },
  {
   "cell_type": "code",
   "execution_count": 19,
   "id": "0e29858b",
   "metadata": {},
   "outputs": [
    {
     "data": {
      "text/plain": [
       "['t', 't', 'o', 'i', 'o', 'i', 't']"
      ]
     },
     "execution_count": 19,
     "metadata": {},
     "output_type": "execute_result"
    }
   ],
   "source": [
    "list(filter(ContainsCommon, arr))"
   ]
  },
  {
   "cell_type": "markdown",
   "id": "acd1f2d5",
   "metadata": {},
   "source": [
    "### Remove odd numbers from the given list"
   ]
  },
  {
   "cell_type": "raw",
   "id": "505b8524",
   "metadata": {},
   "source": [
    "Use the list given below:\n",
    "numbers = [21, 23, 443, 355, 743, 823, 110, 1241, 3673, 352, 278, 37, 7]"
   ]
  },
  {
   "cell_type": "code",
   "execution_count": 20,
   "id": "5c4e0ecc",
   "metadata": {},
   "outputs": [
    {
     "data": {
      "text/plain": [
       "[110, 352, 278]"
      ]
     },
     "execution_count": 20,
     "metadata": {},
     "output_type": "execute_result"
    }
   ],
   "source": [
    "numbers = [21, 23, 443, 355, 743, 823, 110, 1241, 3673, 352, 278, 37, 7]\n",
    "\n",
    "list(filter(lambda x : x%2==0, numbers))"
   ]
  },
  {
   "cell_type": "markdown",
   "id": "9c97af94",
   "metadata": {},
   "source": [
    "# Reduce Function\n"
   ]
  },
  {
   "cell_type": "markdown",
   "id": "7279600a",
   "metadata": {},
   "source": [
    "### Calculate the sum of the numbers from 1 to 200"
   ]
  },
  {
   "cell_type": "code",
   "execution_count": 21,
   "id": "331f6ee6",
   "metadata": {},
   "outputs": [],
   "source": [
    "from functools import reduce"
   ]
  },
  {
   "cell_type": "code",
   "execution_count": 29,
   "id": "e2083956",
   "metadata": {},
   "outputs": [
    {
     "data": {
      "text/plain": [
       "301"
      ]
     },
     "execution_count": 29,
     "metadata": {},
     "output_type": "execute_result"
    }
   ],
   "source": [
    "s = [100,201]   # Doubt\n",
    "reduce(add, s)"
   ]
  },
  {
   "cell_type": "code",
   "execution_count": 26,
   "id": "bd96e922",
   "metadata": {},
   "outputs": [],
   "source": [
    "def add(x,y):\n",
    "    return x+y"
   ]
  },
  {
   "cell_type": "code",
   "execution_count": 28,
   "id": "5d085677",
   "metadata": {},
   "outputs": [
    {
     "data": {
      "text/plain": [
       "202"
      ]
     },
     "execution_count": 28,
     "metadata": {},
     "output_type": "execute_result"
    }
   ],
   "source": [
    "add(1,201)"
   ]
  },
  {
   "cell_type": "markdown",
   "id": "ae36bffa",
   "metadata": {},
   "source": [
    "### Determine the maximum of a given list using reduce function"
   ]
  },
  {
   "cell_type": "raw",
   "id": "47e3ff27",
   "metadata": {},
   "source": [
    "Use the list given below:\n",
    "my_list = [47,11,42,102,13]"
   ]
  },
  {
   "cell_type": "code",
   "execution_count": 31,
   "id": "60a3f179",
   "metadata": {},
   "outputs": [
    {
     "data": {
      "text/plain": [
       "102"
      ]
     },
     "execution_count": 31,
     "metadata": {},
     "output_type": "execute_result"
    }
   ],
   "source": [
    "my_list = [47,11,42,102,13]\n",
    "\n",
    "reduce(max, my_list)"
   ]
  },
  {
   "cell_type": "code",
   "execution_count": null,
   "id": "6be41f8f",
   "metadata": {},
   "outputs": [],
   "source": []
  },
  {
   "cell_type": "code",
   "execution_count": null,
   "id": "1c173ea1",
   "metadata": {},
   "outputs": [],
   "source": []
  },
  {
   "cell_type": "code",
   "execution_count": null,
   "id": "773e88e7",
   "metadata": {},
   "outputs": [],
   "source": []
  },
  {
   "cell_type": "code",
   "execution_count": null,
   "id": "475c9817",
   "metadata": {},
   "outputs": [],
   "source": []
  },
  {
   "cell_type": "code",
   "execution_count": null,
   "id": "d1e051a7",
   "metadata": {},
   "outputs": [],
   "source": []
  },
  {
   "cell_type": "code",
   "execution_count": null,
   "id": "dc919137",
   "metadata": {},
   "outputs": [],
   "source": []
  },
  {
   "cell_type": "code",
   "execution_count": null,
   "id": "5b74294a",
   "metadata": {},
   "outputs": [],
   "source": []
  },
  {
   "cell_type": "code",
   "execution_count": null,
   "id": "baaab2b3",
   "metadata": {},
   "outputs": [],
   "source": []
  },
  {
   "cell_type": "code",
   "execution_count": null,
   "id": "40ea58b4",
   "metadata": {},
   "outputs": [],
   "source": []
  },
  {
   "cell_type": "code",
   "execution_count": null,
   "id": "f5906cbb",
   "metadata": {},
   "outputs": [],
   "source": []
  },
  {
   "cell_type": "code",
   "execution_count": null,
   "id": "6cadb705",
   "metadata": {},
   "outputs": [],
   "source": []
  },
  {
   "cell_type": "code",
   "execution_count": null,
   "id": "563cae59",
   "metadata": {},
   "outputs": [],
   "source": []
  },
  {
   "cell_type": "code",
   "execution_count": null,
   "id": "764e0210",
   "metadata": {},
   "outputs": [],
   "source": []
  },
  {
   "cell_type": "code",
   "execution_count": null,
   "id": "71bd90f7",
   "metadata": {},
   "outputs": [],
   "source": []
  },
  {
   "cell_type": "code",
   "execution_count": null,
   "id": "ffbf93c4",
   "metadata": {},
   "outputs": [],
   "source": []
  },
  {
   "cell_type": "code",
   "execution_count": null,
   "id": "9b0b6a04",
   "metadata": {},
   "outputs": [],
   "source": []
  },
  {
   "cell_type": "code",
   "execution_count": null,
   "id": "92e33c31",
   "metadata": {},
   "outputs": [],
   "source": []
  },
  {
   "cell_type": "code",
   "execution_count": null,
   "id": "bebaa054",
   "metadata": {},
   "outputs": [],
   "source": []
  },
  {
   "cell_type": "code",
   "execution_count": null,
   "id": "07b1d4c3",
   "metadata": {},
   "outputs": [],
   "source": []
  },
  {
   "cell_type": "code",
   "execution_count": null,
   "id": "b760dee1",
   "metadata": {},
   "outputs": [],
   "source": []
  },
  {
   "cell_type": "code",
   "execution_count": null,
   "id": "e676ebd6",
   "metadata": {},
   "outputs": [],
   "source": []
  },
  {
   "cell_type": "code",
   "execution_count": null,
   "id": "04b81c95",
   "metadata": {},
   "outputs": [],
   "source": []
  }
 ],
 "metadata": {
  "kernelspec": {
   "display_name": "Python 3 (ipykernel)",
   "language": "python",
   "name": "python3"
  },
  "language_info": {
   "codemirror_mode": {
    "name": "ipython",
    "version": 3
   },
   "file_extension": ".py",
   "mimetype": "text/x-python",
   "name": "python",
   "nbconvert_exporter": "python",
   "pygments_lexer": "ipython3",
   "version": "3.10.9"
  }
 },
 "nbformat": 4,
 "nbformat_minor": 5
}
