{
 "cells": [
  {
   "cell_type": "markdown",
   "id": "16ecf580",
   "metadata": {},
   "source": [
    "# List Comprehension "
   ]
  },
  {
   "cell_type": "markdown",
   "id": "aa9d3856",
   "metadata": {},
   "source": [
    "### 1. Print 1 to 10 from list comprehension"
   ]
  },
  {
   "cell_type": "code",
   "execution_count": 1,
   "id": "410a6550",
   "metadata": {},
   "outputs": [
    {
     "data": {
      "text/plain": [
       "[1, 2, 3, 4, 5, 6, 7, 8, 9, 10]"
      ]
     },
     "execution_count": 1,
     "metadata": {},
     "output_type": "execute_result"
    }
   ],
   "source": [
    "[  i  for i in range(1,11)]"
   ]
  },
  {
   "cell_type": "markdown",
   "id": "9ede274a",
   "metadata": {},
   "source": [
    "### 2. Find the square of list 1 to 10"
   ]
  },
  {
   "cell_type": "code",
   "execution_count": 2,
   "id": "f4aa9f95",
   "metadata": {},
   "outputs": [
    {
     "data": {
      "text/plain": [
       "[1, 4, 9, 16, 25, 36, 49, 64, 81, 100]"
      ]
     },
     "execution_count": 2,
     "metadata": {},
     "output_type": "execute_result"
    }
   ],
   "source": [
    "[ i**2   for i in range(1,11)]"
   ]
  },
  {
   "cell_type": "markdown",
   "id": "56fb75fc",
   "metadata": {},
   "source": [
    "### 3. Find the square root and round upto 2 decimal"
   ]
  },
  {
   "cell_type": "code",
   "execution_count": 13,
   "id": "56ee21eb",
   "metadata": {},
   "outputs": [
    {
     "data": {
      "text/plain": [
       "[1.0, 1.41, 1.73, 2.0, 2.24, 2.45, 2.65, 2.83, 3.0, 3.16]"
      ]
     },
     "execution_count": 13,
     "metadata": {},
     "output_type": "execute_result"
    }
   ],
   "source": [
    "[ round((i*0.5),2)  for i in range(1,11)]"
   ]
  },
  {
   "cell_type": "markdown",
   "id": "a42919c5",
   "metadata": {},
   "source": [
    "### 4. Find the even numbers from the list"
   ]
  },
  {
   "cell_type": "code",
   "execution_count": 14,
   "id": "3e004308",
   "metadata": {},
   "outputs": [
    {
     "data": {
      "text/plain": [
       "[2, 4, 6, 8, 10]"
      ]
     },
     "execution_count": 14,
     "metadata": {},
     "output_type": "execute_result"
    }
   ],
   "source": [
    "[ i  for i in range(1,11) if i%2==0]"
   ]
  },
  {
   "cell_type": "markdown",
   "id": "14ad2730",
   "metadata": {},
   "source": [
    "### 5. Find the even numbers from the list also should be multiple by 3"
   ]
  },
  {
   "cell_type": "code",
   "execution_count": 15,
   "id": "e09de4e2",
   "metadata": {},
   "outputs": [
    {
     "data": {
      "text/plain": [
       "[6, 12, 18]"
      ]
     },
     "execution_count": 15,
     "metadata": {},
     "output_type": "execute_result"
    }
   ],
   "source": [
    "[   i   for i in range(1,20) if i%2==0 and i%3==0]"
   ]
  },
  {
   "cell_type": "markdown",
   "id": "bbfe4234",
   "metadata": {},
   "source": [
    "### 6. Print even and odd from the list"
   ]
  },
  {
   "cell_type": "code",
   "execution_count": 17,
   "id": "5c876fe6",
   "metadata": {},
   "outputs": [
    {
     "data": {
      "text/plain": [
       "['Odd', 'Even', 'Odd', 'Even', 'Odd', 'Even', 'Odd', 'Even', 'Odd', 'Even']"
      ]
     },
     "execution_count": 17,
     "metadata": {},
     "output_type": "execute_result"
    }
   ],
   "source": [
    "[ 'Even' if i%2==0 else 'Odd'  for i in range(1,11)]"
   ]
  },
  {
   "cell_type": "markdown",
   "id": "7adaac62",
   "metadata": {},
   "source": [
    "### 7. Print tuple as even and odd with the list"
   ]
  },
  {
   "cell_type": "code",
   "execution_count": 28,
   "id": "72c8faaf",
   "metadata": {},
   "outputs": [
    {
     "data": {
      "text/plain": [
       "[(1, 'odd'),\n",
       " (2, 'even'),\n",
       " (3, 'odd'),\n",
       " (4, 'even'),\n",
       " (5, 'odd'),\n",
       " (6, 'even'),\n",
       " (7, 'odd'),\n",
       " (8, 'even'),\n",
       " (9, 'odd'),\n",
       " (10, 'even')]"
      ]
     },
     "execution_count": 28,
     "metadata": {},
     "output_type": "execute_result"
    }
   ],
   "source": [
    "list( (i,'even') if i%2==0 else (i,'odd') for i in range(1,11))"
   ]
  },
  {
   "cell_type": "markdown",
   "id": "94ce67f9",
   "metadata": {},
   "source": [
    "### 8. Print tables from 2 to 5 with nested loop from list"
   ]
  },
  {
   "cell_type": "code",
   "execution_count": 47,
   "id": "8161f8e6",
   "metadata": {},
   "outputs": [
    {
     "data": {
      "text/plain": [
       "[[(1, 2, 2),\n",
       "  (2, 2, 4),\n",
       "  (3, 2, 6),\n",
       "  (4, 2, 8),\n",
       "  (5, 2, 10),\n",
       "  (6, 2, 12),\n",
       "  (7, 2, 14),\n",
       "  (8, 2, 16),\n",
       "  (9, 2, 18),\n",
       "  (10, 2, 20)],\n",
       " [(1, 3, 3),\n",
       "  (2, 3, 6),\n",
       "  (3, 3, 9),\n",
       "  (4, 3, 12),\n",
       "  (5, 3, 15),\n",
       "  (6, 3, 18),\n",
       "  (7, 3, 21),\n",
       "  (8, 3, 24),\n",
       "  (9, 3, 27),\n",
       "  (10, 3, 30)],\n",
       " [(1, 4, 4),\n",
       "  (2, 4, 8),\n",
       "  (3, 4, 12),\n",
       "  (4, 4, 16),\n",
       "  (5, 4, 20),\n",
       "  (6, 4, 24),\n",
       "  (7, 4, 28),\n",
       "  (8, 4, 32),\n",
       "  (9, 4, 36),\n",
       "  (10, 4, 40)],\n",
       " [(1, 5, 5),\n",
       "  (2, 5, 10),\n",
       "  (3, 5, 15),\n",
       "  (4, 5, 20),\n",
       "  (5, 5, 25),\n",
       "  (6, 5, 30),\n",
       "  (7, 5, 35),\n",
       "  (8, 5, 40),\n",
       "  (9, 5, 45),\n",
       "  (10, 5, 50)]]"
      ]
     },
     "execution_count": 47,
     "metadata": {},
     "output_type": "execute_result"
    }
   ],
   "source": [
    "[[ (j,i,(i*j))  for j in range(1,11)] for i in range(2,6)  ]"
   ]
  },
  {
   "cell_type": "code",
   "execution_count": null,
   "id": "590918be",
   "metadata": {},
   "outputs": [],
   "source": []
  },
  {
   "cell_type": "code",
   "execution_count": null,
   "id": "8adb2880",
   "metadata": {},
   "outputs": [],
   "source": []
  },
  {
   "cell_type": "code",
   "execution_count": null,
   "id": "75226136",
   "metadata": {},
   "outputs": [],
   "source": []
  },
  {
   "cell_type": "code",
   "execution_count": null,
   "id": "60ae481a",
   "metadata": {},
   "outputs": [],
   "source": []
  },
  {
   "cell_type": "code",
   "execution_count": null,
   "id": "c6098d47",
   "metadata": {},
   "outputs": [],
   "source": []
  },
  {
   "cell_type": "code",
   "execution_count": null,
   "id": "16bf15f0",
   "metadata": {},
   "outputs": [],
   "source": []
  },
  {
   "cell_type": "code",
   "execution_count": null,
   "id": "05724e9c",
   "metadata": {},
   "outputs": [],
   "source": []
  },
  {
   "cell_type": "code",
   "execution_count": null,
   "id": "d04f89ca",
   "metadata": {},
   "outputs": [],
   "source": []
  },
  {
   "cell_type": "code",
   "execution_count": null,
   "id": "c08465bb",
   "metadata": {},
   "outputs": [],
   "source": []
  },
  {
   "cell_type": "code",
   "execution_count": null,
   "id": "63e2fa7d",
   "metadata": {},
   "outputs": [],
   "source": []
  },
  {
   "cell_type": "code",
   "execution_count": null,
   "id": "38ab6c20",
   "metadata": {},
   "outputs": [],
   "source": []
  },
  {
   "cell_type": "code",
   "execution_count": null,
   "id": "33e9081a",
   "metadata": {},
   "outputs": [],
   "source": []
  },
  {
   "cell_type": "code",
   "execution_count": null,
   "id": "023a98bd",
   "metadata": {},
   "outputs": [],
   "source": []
  },
  {
   "cell_type": "code",
   "execution_count": null,
   "id": "1f13bf6e",
   "metadata": {},
   "outputs": [],
   "source": []
  },
  {
   "cell_type": "code",
   "execution_count": null,
   "id": "777d1d6a",
   "metadata": {},
   "outputs": [],
   "source": []
  },
  {
   "cell_type": "code",
   "execution_count": null,
   "id": "ba8548d4",
   "metadata": {},
   "outputs": [],
   "source": []
  },
  {
   "cell_type": "code",
   "execution_count": null,
   "id": "f35722aa",
   "metadata": {},
   "outputs": [],
   "source": []
  },
  {
   "cell_type": "code",
   "execution_count": null,
   "id": "4538d62b",
   "metadata": {},
   "outputs": [],
   "source": []
  },
  {
   "cell_type": "code",
   "execution_count": null,
   "id": "6b9ab291",
   "metadata": {},
   "outputs": [],
   "source": []
  },
  {
   "cell_type": "code",
   "execution_count": null,
   "id": "68a9c9cd",
   "metadata": {},
   "outputs": [],
   "source": []
  },
  {
   "cell_type": "code",
   "execution_count": null,
   "id": "688af060",
   "metadata": {},
   "outputs": [],
   "source": []
  },
  {
   "cell_type": "code",
   "execution_count": null,
   "id": "069a874c",
   "metadata": {},
   "outputs": [],
   "source": []
  },
  {
   "cell_type": "code",
   "execution_count": null,
   "id": "4be3e2dd",
   "metadata": {},
   "outputs": [],
   "source": []
  },
  {
   "cell_type": "code",
   "execution_count": null,
   "id": "b51e5c0e",
   "metadata": {},
   "outputs": [],
   "source": []
  },
  {
   "cell_type": "code",
   "execution_count": null,
   "id": "6f0b07bf",
   "metadata": {},
   "outputs": [],
   "source": []
  },
  {
   "cell_type": "code",
   "execution_count": null,
   "id": "34ff7f73",
   "metadata": {},
   "outputs": [],
   "source": []
  },
  {
   "cell_type": "code",
   "execution_count": null,
   "id": "31489a81",
   "metadata": {},
   "outputs": [],
   "source": []
  },
  {
   "cell_type": "code",
   "execution_count": null,
   "id": "c3ae4503",
   "metadata": {},
   "outputs": [],
   "source": []
  },
  {
   "cell_type": "code",
   "execution_count": null,
   "id": "3e3fe999",
   "metadata": {},
   "outputs": [],
   "source": []
  },
  {
   "cell_type": "code",
   "execution_count": null,
   "id": "245cd98a",
   "metadata": {},
   "outputs": [],
   "source": []
  },
  {
   "cell_type": "code",
   "execution_count": null,
   "id": "f41c7410",
   "metadata": {},
   "outputs": [],
   "source": []
  },
  {
   "cell_type": "code",
   "execution_count": null,
   "id": "ec5f7e6e",
   "metadata": {},
   "outputs": [],
   "source": []
  },
  {
   "cell_type": "code",
   "execution_count": null,
   "id": "32df4152",
   "metadata": {},
   "outputs": [],
   "source": []
  },
  {
   "cell_type": "code",
   "execution_count": null,
   "id": "e5116d97",
   "metadata": {},
   "outputs": [],
   "source": []
  },
  {
   "cell_type": "code",
   "execution_count": null,
   "id": "1d5a39e1",
   "metadata": {},
   "outputs": [],
   "source": []
  },
  {
   "cell_type": "code",
   "execution_count": null,
   "id": "9225fccd",
   "metadata": {},
   "outputs": [],
   "source": []
  },
  {
   "cell_type": "code",
   "execution_count": null,
   "id": "e6061986",
   "metadata": {},
   "outputs": [],
   "source": []
  },
  {
   "cell_type": "code",
   "execution_count": null,
   "id": "aed3a978",
   "metadata": {},
   "outputs": [],
   "source": []
  },
  {
   "cell_type": "code",
   "execution_count": null,
   "id": "9928b9b0",
   "metadata": {},
   "outputs": [],
   "source": []
  },
  {
   "cell_type": "code",
   "execution_count": null,
   "id": "53ceeceb",
   "metadata": {},
   "outputs": [],
   "source": []
  },
  {
   "cell_type": "code",
   "execution_count": null,
   "id": "d497de71",
   "metadata": {},
   "outputs": [],
   "source": []
  },
  {
   "cell_type": "code",
   "execution_count": null,
   "id": "3e3db613",
   "metadata": {},
   "outputs": [],
   "source": []
  },
  {
   "cell_type": "code",
   "execution_count": null,
   "id": "2415f744",
   "metadata": {},
   "outputs": [],
   "source": []
  },
  {
   "cell_type": "code",
   "execution_count": null,
   "id": "e74f5a3a",
   "metadata": {},
   "outputs": [],
   "source": []
  },
  {
   "cell_type": "code",
   "execution_count": null,
   "id": "2e654d52",
   "metadata": {},
   "outputs": [],
   "source": []
  },
  {
   "cell_type": "code",
   "execution_count": null,
   "id": "15a1f88e",
   "metadata": {},
   "outputs": [],
   "source": []
  },
  {
   "cell_type": "code",
   "execution_count": null,
   "id": "81b1752d",
   "metadata": {},
   "outputs": [],
   "source": []
  },
  {
   "cell_type": "code",
   "execution_count": null,
   "id": "e942210c",
   "metadata": {},
   "outputs": [],
   "source": []
  }
 ],
 "metadata": {
  "kernelspec": {
   "display_name": "Python 3 (ipykernel)",
   "language": "python",
   "name": "python3"
  },
  "language_info": {
   "codemirror_mode": {
    "name": "ipython",
    "version": 3
   },
   "file_extension": ".py",
   "mimetype": "text/x-python",
   "name": "python",
   "nbconvert_exporter": "python",
   "pygments_lexer": "ipython3",
   "version": "3.10.9"
  }
 },
 "nbformat": 4,
 "nbformat_minor": 5
}
