{
 "cells": [
  {
   "cell_type": "code",
   "execution_count": 1,
   "id": "fc4ddd7f",
   "metadata": {},
   "outputs": [],
   "source": [
    "# Hangman Game \n",
    "import random"
   ]
  },
  {
   "cell_type": "code",
   "execution_count": 43,
   "id": "d993a2c7",
   "metadata": {},
   "outputs": [
    {
     "name": "stdout",
     "output_type": "stream",
     "text": [
      "last\n",
      "['-', '-', '-', '-']\n",
      "Guess a letter: l\n",
      "['l', '-', '-', '-']\n",
      "Guess a letter: a\n",
      "['l', 'a', '-', '-']\n",
      "Guess a letter: s\n",
      "['l', 'a', 's', '-']\n",
      "Guess a letter: t\n",
      "['l', 'a', 's', 't']\n",
      "you win\n"
     ]
    }
   ],
   "source": [
    "# List of words\n",
    "w_list = [\"aircraft\",\"last\",\"book\"]\n",
    "lives = 5\n",
    "# random word\n",
    "chosen_w = random.choice(w_list)\n",
    "print(chosen_w)\n",
    "# Generate blank space instead of words\n",
    "display = []\n",
    "# for loop (also we can use range function)\n",
    "for i in range(len(chosen_w)):\n",
    "    display += \"-\"\n",
    "print(display)\n",
    "# Ask from the user (input)\n",
    "gameover = False\n",
    "while not gameover:\n",
    "    guessed_letter = input(\"Guess a letter: \").lower()\n",
    "    for position in range(len(chosen_w)):\n",
    "        letter = chosen_w[position]\n",
    "        if letter == guessed_letter:\n",
    "            display[position]=guessed_letter\n",
    "    print(display)\n",
    "    if guessed_letter not in chosen_w:\n",
    "        lives -= 1\n",
    "        if lives == 0:\n",
    "            gameover=True\n",
    "            print('you lose')\n",
    "    if '-' not in display:\n",
    "        gameover = True\n",
    "        print('you win')"
   ]
  },
  {
   "cell_type": "code",
   "execution_count": null,
   "id": "5d5549e7",
   "metadata": {},
   "outputs": [],
   "source": []
  },
  {
   "cell_type": "code",
   "execution_count": null,
   "id": "1aa88025",
   "metadata": {},
   "outputs": [],
   "source": []
  },
  {
   "cell_type": "code",
   "execution_count": null,
   "id": "6bf955d4",
   "metadata": {},
   "outputs": [],
   "source": []
  },
  {
   "cell_type": "code",
   "execution_count": null,
   "id": "249dfe5b",
   "metadata": {},
   "outputs": [],
   "source": []
  },
  {
   "cell_type": "code",
   "execution_count": null,
   "id": "c079c214",
   "metadata": {},
   "outputs": [],
   "source": []
  },
  {
   "cell_type": "code",
   "execution_count": null,
   "id": "48674845",
   "metadata": {},
   "outputs": [],
   "source": []
  }
 ],
 "metadata": {
  "kernelspec": {
   "display_name": "Python 3 (ipykernel)",
   "language": "python",
   "name": "python3"
  },
  "language_info": {
   "codemirror_mode": {
    "name": "ipython",
    "version": 3
   },
   "file_extension": ".py",
   "mimetype": "text/x-python",
   "name": "python",
   "nbconvert_exporter": "python",
   "pygments_lexer": "ipython3",
   "version": "3.10.9"
  }
 },
 "nbformat": 4,
 "nbformat_minor": 5
}
