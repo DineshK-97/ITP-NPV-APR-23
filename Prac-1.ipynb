{
 "cells": [
  {
   "cell_type": "markdown",
   "id": "68c5f13b",
   "metadata": {},
   "source": [
    "# Day 1"
   ]
  },
  {
   "cell_type": "code",
   "execution_count": 32,
   "id": "2ea73c3d",
   "metadata": {},
   "outputs": [
    {
     "name": "stdout",
     "output_type": "stream",
     "text": [
      "Do you want items in the cart - yes/no  yes\n",
      "what kind products you want - Watch\n",
      "Type of a product - Digital\n",
      "Name of the brand - Casio\n",
      "Item list : Watch\n",
      "Item Type : Digital\n",
      "Brand : Casio\n",
      "Do you want items in the cart - yes/no  n\n",
      "Thanks for Shopping\n"
     ]
    }
   ],
   "source": [
    "# function\n",
    "Items = []\n",
    "Type = []\n",
    "brand = []\n",
    "while True:\n",
    "    cinput = input('Do you want items in the cart - yes/no  ')\n",
    "    if cinput == 'n':\n",
    "        print('Thanks for Shopping')\n",
    "        break\n",
    "    else:\n",
    "        Item_list = input('what kind products you want - ')\n",
    "        Items.append(Item_list)\n",
    "        Item_Type = input('Type of a product - ')\n",
    "        Type.append(Item_Type)\n",
    "        Brand_Name = input('Name of the brand - ')\n",
    "        brand.append(Brand_Name)\n",
    "        print('Item list :', Item_list)\n",
    "        print('Item Type :', Item_Type)\n",
    "        print('Brand :', Brand_Name)"
   ]
  },
  {
   "cell_type": "markdown",
   "id": "d719c1dd",
   "metadata": {},
   "source": [
    "#### 2. A string is said to be complete if it contains all the characters from a to z. Given a string, check if it is complete or not. ( 5 marks)\n",
    "Input: The first line of the input contains the number of strings N. It is followed by N lines each contains a single string.\n",
    "\n",
    "Output: For each test case print \"YES\" if the string is complete, else print \"NO\"\n",
    "\n",
    "Constraints 1 <= N <= 10\n",
    "\n",
    "The length of the string is at max 100 and the string contains only the characters a to z\n",
    "\n",
    "SAMPLE INPUT: 3\n",
    "\n",
    "wyyga\n",
    "\n",
    "qwertyuioplkjhgfdsazxcvbnm\n",
    "\n",
    "ejuxggfsts\n",
    "\n",
    "SAMPLE OUTPUT\n",
    "\n",
    "NO\n",
    "\n",
    "YES\n",
    "\n",
    "NO"
   ]
  },
  {
   "cell_type": "code",
   "execution_count": 57,
   "id": "0f1c8b4b",
   "metadata": {},
   "outputs": [
    {
     "name": "stdout",
     "output_type": "stream",
     "text": [
      "Enter the input num : 3\n",
      "Enter the letter -sfhhaa\n",
      "NO\n",
      "Enter the letter -qwertyuiopasdfghjklzxcvbnm\n",
      "YES\n",
      "Enter the letter -srhhae\n",
      "NO\n"
     ]
    }
   ],
   "source": [
    "n = int(input('Enter the input num : '))\n",
    "\n",
    "for i in range(0,n):\n",
    "    w = input('Enter the letter -')\n",
    "    s = set(w)\n",
    "    if len(s)==26:\n",
    "        print('YES')\n",
    "    else:\n",
    "        print('NO')"
   ]
  },
  {
   "cell_type": "markdown",
   "id": "a839ac7c",
   "metadata": {},
   "source": [
    "# AG-01"
   ]
  },
  {
   "cell_type": "markdown",
   "id": "f7d23f28",
   "metadata": {},
   "source": [
    "# Number Guessing Game in python\n",
    "4. Write a numbers guessing game in python. Roll a dice and it shows up numbers between 1 and 6. The user has to guess the number on the dice. If the guess is correct, then the user wins. If the guess is not correct the user looses the game. (5 marks)"
   ]
  },
  {
   "cell_type": "code",
   "execution_count": 31,
   "id": "d49e3485",
   "metadata": {},
   "outputs": [
    {
     "name": "stdout",
     "output_type": "stream",
     "text": [
      "Enter the Number : 6\n",
      "Enter the Lower input\n",
      "Enter the Number : 5\n",
      "User Won\n"
     ]
    }
   ],
   "source": [
    "import random\n",
    "\n",
    "n = random.randint(1,6)\n",
    "for i in range(n):\n",
    "    v = int(input('Enter the Number : '))\n",
    "    if v>6:\n",
    "        print('Your input is wrong')\n",
    "    elif v>n:\n",
    "        print('Enter the Lower input')\n",
    "    elif v<n:\n",
    "        print('Enter the Higher input')\n",
    "    else:\n",
    "        print('User Won')\n",
    "        break"
   ]
  },
  {
   "cell_type": "code",
   "execution_count": null,
   "id": "27da1792",
   "metadata": {},
   "outputs": [],
   "source": []
  },
  {
   "cell_type": "markdown",
   "id": "0616fe1f",
   "metadata": {},
   "source": [
    "# 2. Write a program that lets the user play Rock-Paper-Scissors against the computer.\n",
    "There should be five rounds,in every round user will get a chance to pick one item from [rock,paper,scissor] and computer will randomly select one.\n",
    "\n",
    "Depending upon the selection either one of the player will get a point as per the rules or it will be draw if both the items are same.\n",
    "\n",
    "In every round, player's choice and their current score should be updated and displayed.\n",
    "\n",
    "After those five rounds, your program should print out who won and lost or that there is a tie. (10 Marks)\n",
    "\n",
    " **Rules for the Game:**\n",
    " 1. Scissors beats Paper\n",
    " 2. Rock beats Scissors\n",
    " 3. Paper beats Rock"
   ]
  },
  {
   "cell_type": "markdown",
   "id": "38fb9325",
   "metadata": {},
   "source": [
    "**SAMPLE INPUT AND OUTPUT:**\n",
    "\n",
    "\n",
    "---------------------Round 1----------------------------\n",
    "\n",
    "Enter your choice : paper\n",
    "\n",
    "your choice :  paper\n",
    "\n",
    "Computer's choice:  paper\n",
    "\n",
    "Scoreboard : Your score 0 , computer's score 0 \n",
    "\n",
    "---------------------Round 2----------------------------\n",
    "\n",
    "Enter your choice : paper\n",
    "\n",
    "your choice :  paper\n",
    "\n",
    "Computer's choice:  scissor\n",
    "\n",
    "Scoreboard : Your score 0 , computer's score 1 \n",
    "\n",
    "---------------------Round 3----------------------------\n",
    "\n",
    "Enter your choice : rock\n",
    "\n",
    "your choice :  rock\n",
    "\n",
    "Computer's choice:  scissor\n",
    "\n",
    "Scoreboard : Your score 1 , computer's score 1 \n",
    "\n",
    "---------------------Round 4----------------------------\n",
    "\n",
    "Enter your choice : rock\n",
    "\n",
    "\n",
    "your choice :  rock\n",
    "\n",
    "Computer's choice:  scissor\n",
    "\n",
    "Scoreboard : Your score 2 , computer's score 1 \n",
    "\n",
    "---------------------Round 5----------------------------\n",
    "\n",
    "Enter your choice : rock\n",
    "\n",
    "your choice :  rock\n",
    "\n",
    "Computer's choice:  paper\n",
    "\n",
    "Scoreboard : Your score 2 , computer's score 1 \n",
    "\n",
    "Result : Congratulations!!! You won!!!\n",
    "\n"
   ]
  },
  {
   "cell_type": "code",
   "execution_count": 53,
   "id": "52008b86",
   "metadata": {},
   "outputs": [
    {
     "name": "stdout",
     "output_type": "stream",
     "text": [
      "Enter your choice:Type 0 for Rock,1 for Paper,2 for Scissor2\n",
      "User Chosen 2\n",
      "Computer Chosen 0\n",
      "You Lose\n",
      "Enter your choice:Type 0 for Rock,1 for Paper,2 for Scissor0\n",
      "User Chosen 0\n",
      "Computer Chosen 0\n",
      "Game Draw\n",
      "Enter your choice:Type 0 for Rock,1 for Paper,2 for Scissor1\n",
      "User Chosen 1\n",
      "Computer Chosen 0\n",
      "You win\n",
      "Enter your choice:Type 0 for Rock,1 for Paper,2 for Scissor0\n",
      "User Chosen 0\n",
      "Computer Chosen 1\n",
      "You Lose\n",
      "Enter your choice:Type 0 for Rock,1 for Paper,2 for Scissor5\n",
      "Sorry You entered an invalid choice, you lose\n"
     ]
    }
   ],
   "source": [
    "# Ask from user\n",
    "user_score=0\n",
    "comp_score=0\n",
    "for i in range(1,6):\n",
    "    user_choice = int(input(\"Enter your choice:Type 0 for Rock,1 for Paper,2 for Scissor\"))\n",
    "    if user_choice >=3 or user_choice < 0:\n",
    "        print(\"Sorry You entered an invalid choice, you lose\")\n",
    "    else:\n",
    "        print('User Chosen',user_choice)\n",
    "        comp_choice=random.randint(0,2)\n",
    "        print('Computer Chosen', comp_choice)\n",
    "        if comp_choice==user_choice:\n",
    "            print('Game Draw')\n",
    "        elif comp_choice==0 and user_choice==2:\n",
    "            print('You Lose')\n",
    "            user_score+=1\n",
    "        elif user_choice==0 and comp_choice==2:\n",
    "            print('You Win')\n",
    "            comp_score+=1\n",
    "        elif comp_choice > user_choice:\n",
    "            print('You Lose')\n",
    "            comp_score+=1\n",
    "        elif user_choice > comp_choice:\n",
    "            print('You win')\n",
    "            user_score+=1"
   ]
  },
  {
   "cell_type": "markdown",
   "id": "69369264",
   "metadata": {},
   "source": [
    "## "
   ]
  },
  {
   "cell_type": "code",
   "execution_count": null,
   "id": "66332e05",
   "metadata": {},
   "outputs": [],
   "source": []
  },
  {
   "cell_type": "code",
   "execution_count": null,
   "id": "1e4bb921",
   "metadata": {},
   "outputs": [],
   "source": []
  },
  {
   "cell_type": "code",
   "execution_count": null,
   "id": "c529994c",
   "metadata": {},
   "outputs": [],
   "source": []
  },
  {
   "cell_type": "code",
   "execution_count": null,
   "id": "b3fa4d39",
   "metadata": {},
   "outputs": [],
   "source": []
  },
  {
   "cell_type": "code",
   "execution_count": null,
   "id": "a22df93b",
   "metadata": {},
   "outputs": [],
   "source": []
  },
  {
   "cell_type": "code",
   "execution_count": null,
   "id": "40083a46",
   "metadata": {},
   "outputs": [],
   "source": []
  },
  {
   "cell_type": "code",
   "execution_count": null,
   "id": "e1097c9e",
   "metadata": {},
   "outputs": [],
   "source": []
  },
  {
   "cell_type": "code",
   "execution_count": null,
   "id": "6869a2f1",
   "metadata": {},
   "outputs": [],
   "source": []
  },
  {
   "cell_type": "code",
   "execution_count": null,
   "id": "164b918b",
   "metadata": {},
   "outputs": [],
   "source": []
  },
  {
   "cell_type": "code",
   "execution_count": null,
   "id": "e7773fcf",
   "metadata": {},
   "outputs": [],
   "source": []
  },
  {
   "cell_type": "code",
   "execution_count": null,
   "id": "1ffd26aa",
   "metadata": {},
   "outputs": [],
   "source": []
  },
  {
   "cell_type": "code",
   "execution_count": null,
   "id": "87d8d177",
   "metadata": {},
   "outputs": [],
   "source": []
  },
  {
   "cell_type": "code",
   "execution_count": null,
   "id": "a4b66337",
   "metadata": {},
   "outputs": [],
   "source": []
  },
  {
   "cell_type": "code",
   "execution_count": null,
   "id": "abcabf3d",
   "metadata": {},
   "outputs": [],
   "source": []
  },
  {
   "cell_type": "code",
   "execution_count": null,
   "id": "70811edf",
   "metadata": {},
   "outputs": [],
   "source": []
  },
  {
   "cell_type": "code",
   "execution_count": null,
   "id": "d1ac17b9",
   "metadata": {},
   "outputs": [],
   "source": []
  },
  {
   "cell_type": "code",
   "execution_count": null,
   "id": "f21b2311",
   "metadata": {},
   "outputs": [],
   "source": []
  },
  {
   "cell_type": "code",
   "execution_count": null,
   "id": "7251f06d",
   "metadata": {},
   "outputs": [],
   "source": []
  },
  {
   "cell_type": "code",
   "execution_count": null,
   "id": "3fb60502",
   "metadata": {},
   "outputs": [],
   "source": []
  },
  {
   "cell_type": "code",
   "execution_count": null,
   "id": "ad7b7621",
   "metadata": {},
   "outputs": [],
   "source": []
  },
  {
   "cell_type": "code",
   "execution_count": null,
   "id": "c7dc2070",
   "metadata": {},
   "outputs": [],
   "source": []
  },
  {
   "cell_type": "code",
   "execution_count": null,
   "id": "4703839d",
   "metadata": {},
   "outputs": [],
   "source": []
  },
  {
   "cell_type": "code",
   "execution_count": null,
   "id": "ca196ff5",
   "metadata": {},
   "outputs": [],
   "source": []
  },
  {
   "cell_type": "code",
   "execution_count": null,
   "id": "a7c3c8bb",
   "metadata": {},
   "outputs": [],
   "source": []
  },
  {
   "cell_type": "code",
   "execution_count": null,
   "id": "c70311dd",
   "metadata": {},
   "outputs": [],
   "source": []
  },
  {
   "cell_type": "code",
   "execution_count": null,
   "id": "6ed77ee0",
   "metadata": {},
   "outputs": [],
   "source": []
  },
  {
   "cell_type": "code",
   "execution_count": null,
   "id": "2d197154",
   "metadata": {},
   "outputs": [],
   "source": []
  },
  {
   "cell_type": "code",
   "execution_count": null,
   "id": "1880644b",
   "metadata": {},
   "outputs": [],
   "source": []
  },
  {
   "cell_type": "code",
   "execution_count": null,
   "id": "0eaae6f9",
   "metadata": {},
   "outputs": [],
   "source": []
  },
  {
   "cell_type": "code",
   "execution_count": null,
   "id": "db7a49ba",
   "metadata": {},
   "outputs": [],
   "source": []
  },
  {
   "cell_type": "code",
   "execution_count": null,
   "id": "2e7adfad",
   "metadata": {},
   "outputs": [],
   "source": []
  },
  {
   "cell_type": "code",
   "execution_count": null,
   "id": "19ed78ce",
   "metadata": {},
   "outputs": [],
   "source": []
  },
  {
   "cell_type": "code",
   "execution_count": null,
   "id": "1e90301e",
   "metadata": {},
   "outputs": [],
   "source": []
  },
  {
   "cell_type": "code",
   "execution_count": null,
   "id": "041ce967",
   "metadata": {},
   "outputs": [],
   "source": []
  },
  {
   "cell_type": "code",
   "execution_count": null,
   "id": "f4006a9b",
   "metadata": {},
   "outputs": [],
   "source": []
  },
  {
   "cell_type": "code",
   "execution_count": null,
   "id": "a207c68e",
   "metadata": {},
   "outputs": [],
   "source": []
  },
  {
   "cell_type": "code",
   "execution_count": null,
   "id": "eea4d6e7",
   "metadata": {},
   "outputs": [],
   "source": []
  }
 ],
 "metadata": {
  "kernelspec": {
   "display_name": "Python 3 (ipykernel)",
   "language": "python",
   "name": "python3"
  },
  "language_info": {
   "codemirror_mode": {
    "name": "ipython",
    "version": 3
   },
   "file_extension": ".py",
   "mimetype": "text/x-python",
   "name": "python",
   "nbconvert_exporter": "python",
   "pygments_lexer": "ipython3",
   "version": "3.10.9"
  }
 },
 "nbformat": 4,
 "nbformat_minor": 5
}
